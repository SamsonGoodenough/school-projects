{
 "cells": [
  {
   "cell_type": "markdown",
   "metadata": {},
   "source": [
    "# Assignment 2\n",
    "## By Samson Goodenough (190723380)\n",
    "---"
   ]
  },
  {
   "cell_type": "markdown",
   "metadata": {},
   "source": [
    "### Section 1 | Concept Question"
   ]
  },
  {
   "cell_type": "markdown",
   "metadata": {},
   "source": [
    "#### Section 1.1 | Expression for the joint likelihood of the network in its factored form"
   ]
  },
  {
   "cell_type": "markdown",
   "metadata": {},
   "source": [
    "$$P(a, b, c, d, e, f, g) = P(a)*P(b|a)*P(c|b) * P(g)*P(f|g) * P(d|c,f) * P(e|d)$$"
   ]
  },
  {
   "cell_type": "markdown",
   "metadata": {},
   "source": [
    "#### Section 1.2 | Naive Bayesian Networks"
   ]
  },
  {
   "cell_type": "markdown",
   "metadata": {},
   "source": [
    "$$P(K = 1|a = 1, b = 1, c = 0) = \\frac{0}{1} = 0$$"
   ]
  },
  {
   "cell_type": "markdown",
   "metadata": {},
   "source": [
    "$$P (K = 0|a = 1, b = 1) = \\frac{1}{2} = 0.5$$"
   ]
  },
  {
   "cell_type": "markdown",
   "metadata": {},
   "source": [
    "### Section 2 | Programming Question: Product Classification"
   ]
  },
  {
   "cell_type": "markdown",
   "metadata": {},
   "source": [
    "#### Section 2.1 | Data Loading and Preprocessing"
   ]
  },
  {
   "cell_type": "code",
   "execution_count": 1,
   "metadata": {},
   "outputs": [],
   "source": [
    "# Imports\n",
    "import pandas as pd\n",
    "import numpy as np\n",
    "from sklearn.model_selection import train_test_split"
   ]
  },
  {
   "cell_type": "code",
   "execution_count": 2,
   "metadata": {},
   "outputs": [],
   "source": [
    "# Read the data\n",
    "df = pd.read_csv(r\"otto.csv\")"
   ]
  },
  {
   "cell_type": "code",
   "execution_count": 3,
   "metadata": {},
   "outputs": [
    {
     "name": "stdout",
     "output_type": "stream",
     "text": [
      "Number of instances: 61878\n",
      "Number of classes: 9\n"
     ]
    }
   ],
   "source": [
    "# Find the number of instances and classes\n",
    "num_instances = df.shape[0]\n",
    "num_classes = df['target'].nunique()\n",
    "\n",
    "print('Number of instances:', num_instances)\n",
    "print('Number of classes:', num_classes)"
   ]
  },
  {
   "cell_type": "code",
   "execution_count": 4,
   "metadata": {},
   "outputs": [],
   "source": [
    "# Remove all NaN values\n",
    "df = df.dropna()\n",
    "\n",
    "# Remove non-numerical class labels (id)\n",
    "df = df[df.id.apply(lambda x: str(x).isdigit())]\n",
    "\n",
    "# Sum all feature values in row and filter out those with sum = 0\n",
    "sums = df.iloc[:, 1:-1].sum(numeric_only = True, axis=1)\n",
    "preprocessed = df[sums > 0]\n"
   ]
  },
  {
   "cell_type": "code",
   "execution_count": 5,
   "metadata": {},
   "outputs": [],
   "source": [
    "# Split the data into features and target\n",
    "features = preprocessed.drop('target', axis=1).columns\n",
    "\n",
    "# Split the data into training and test sets\n",
    "x_train, x_test, y_train, y_test = train_test_split(preprocessed[features], preprocessed['target'], test_size=0.2)"
   ]
  },
  {
   "cell_type": "markdown",
   "metadata": {},
   "source": [
    "#### Section 2.2 | Algorithm Implementation"
   ]
  },
  {
   "cell_type": "markdown",
   "metadata": {},
   "source": [
    "##### Section 2.2.1 | K-Nearest Neighbors"
   ]
  },
  {
   "cell_type": "code",
   "execution_count": 6,
   "metadata": {},
   "outputs": [],
   "source": [
    "# Import the classifier\n",
    "from sklearn.neighbors import KNeighborsClassifier"
   ]
  },
  {
   "cell_type": "code",
   "execution_count": 7,
   "metadata": {},
   "outputs": [],
   "source": [
    "# Make, train, and evaluate the classifier\n",
    "k_classifier = KNeighborsClassifier(n_neighbors=3)\n",
    "k_classifier.fit(x_train, y_train)\n",
    "pred_k_classifier = k_classifier.predict(x_test)"
   ]
  },
  {
   "cell_type": "markdown",
   "metadata": {},
   "source": [
    "##### Section 2.2.2 | Random Forest"
   ]
  },
  {
   "cell_type": "code",
   "execution_count": 8,
   "metadata": {},
   "outputs": [],
   "source": [
    "# Import the classifier\n",
    "from sklearn.ensemble import RandomForestClassifier"
   ]
  },
  {
   "cell_type": "code",
   "execution_count": 9,
   "metadata": {},
   "outputs": [],
   "source": [
    "# Make, train, and evaluate the classifier\n",
    "f_classifier = RandomForestClassifier(n_estimators=18, max_samples=1000, bootstrap=True, criterion='entropy')\n",
    "f_classifier.fit(x_train, y_train)\n",
    "pred_f_classifier = f_classifier.predict(x_test)"
   ]
  },
  {
   "cell_type": "markdown",
   "metadata": {},
   "source": [
    "##### Section 2.2.3 | Naive Bayes"
   ]
  },
  {
   "cell_type": "code",
   "execution_count": 10,
   "metadata": {},
   "outputs": [],
   "source": [
    "# Import the classifier\n",
    "from sklearn.naive_bayes import GaussianNB"
   ]
  },
  {
   "cell_type": "code",
   "execution_count": 11,
   "metadata": {},
   "outputs": [],
   "source": [
    "# Make, train, and evaluate the classifier\n",
    "g_classifier = GaussianNB()\n",
    "g_classifier.fit(x_train, y_train)\n",
    "pred_g_classifier = g_classifier.predict(x_test)"
   ]
  },
  {
   "cell_type": "markdown",
   "metadata": {},
   "source": [
    "#### Section 2.3 | Performance Comparison"
   ]
  },
  {
   "cell_type": "code",
   "execution_count": 12,
   "metadata": {},
   "outputs": [],
   "source": [
    "# Imports\n",
    "from sklearn.metrics import precision_recall_fscore_support"
   ]
  },
  {
   "cell_type": "code",
   "execution_count": 13,
   "metadata": {},
   "outputs": [
    {
     "name": "stdout",
     "output_type": "stream",
     "text": [
      "                       fscore        \n",
      "K-Nearest Neighbors  | \u001b[2;1;43m0.999515190692\u001b[0m\n",
      "Random Forest        | 0.927036199095\n",
      "Naive Bayes          | 0.809227537169\n"
     ]
    }
   ],
   "source": [
    "# find the greatest and highlight it\n",
    "print(\"{:23}{:14}\".format('', 'fscore'))\n",
    "\n",
    "prfs = []\n",
    "prfs.append(np.asarray(precision_recall_fscore_support(y_test, pred_k_classifier, average='micro')))\n",
    "prfs.append(np.asarray(precision_recall_fscore_support(y_test, pred_f_classifier, average='micro')))\n",
    "prfs.append(np.asarray(precision_recall_fscore_support(y_test, pred_g_classifier, average='micro')))\n",
    "\n",
    "for i in range(len(prfs)):\n",
    "    for j in range(len(prfs[i])-1):\n",
    "        prfs[i][j] = round(prfs[i][j], 12)\n",
    "        \n",
    "for i in range(len(prfs[0])-1):\n",
    "    max = [j,i]\n",
    "    for j in range(len(prfs)):\n",
    "        if prfs[max[0]][max[1]] < prfs[j][i]:\n",
    "            max = [j, i]\n",
    "    prfs[max[0]][max[1]] = '\\033[2;1;43m'+str(prfs[max[0]][max[1]])+'\\x1b[0m'\n",
    "\n",
    "# print results\n",
    "print(\"{:20} | {:0<14}\".format('K-Nearest Neighbors', prfs[0][2]))\n",
    "print(\"{:20} | {:0<14}\".format('Random Forest', prfs[1][2]))\n",
    "print(\"{:20} | {:0<14}\".format('Naive Bayes', prfs[2][2]))\n"
   ]
  },
  {
   "cell_type": "code",
   "execution_count": 14,
   "metadata": {},
   "outputs": [],
   "source": [
    "# Imports\n",
    "from sklearn.metrics import confusion_matrix, ConfusionMatrixDisplay\n",
    "from sklearn import preprocessing \n",
    "import seaborn as sn"
   ]
  },
  {
   "cell_type": "code",
   "execution_count": 15,
   "metadata": {},
   "outputs": [
    {
     "data": {
      "text/plain": [
       "<AxesSubplot:>"
      ]
     },
     "execution_count": 15,
     "metadata": {},
     "output_type": "execute_result"
    },
    {
     "data": {
      "image/png": "[encoded data removed]",
      "text/plain": [
       "<Figure size 432x288 with 2 Axes>"
      ]
     },
     "metadata": {
      "needs_background": "light"
     },
     "output_type": "display_data"
    }
   ],
   "source": [
    "label = preprocessing.LabelEncoder()\n",
    "scores_df = pd.DataFrame({\n",
    "  'K-Nearest Neighbors': label.fit_transform(pred_k_classifier) ,\n",
    "  'Random Forest': label.fit_transform(pred_f_classifier),\n",
    "  'Naive Bayes': label.fit_transform(pred_g_classifier)\n",
    "})\n",
    "\n",
    "corrMatrix = scores_df.corr()\n",
    "sn.heatmap(corrMatrix, annot=True)"
   ]
  },
  {
   "cell_type": "code",
   "execution_count": null,
   "metadata": {},
   "outputs": [],
   "source": []
  }
 ],
 "metadata": {
  "interpreter": {
   "hash": "a8f61be024eba58adef938c9aa1e29e02cb3dece83a5348b1a2dafd16a070453"
  },
  "kernelspec": {
   "display_name": "Python 3 (ipykernel)",
   "language": "python",
   "name": "python3"
  },
  "language_info": {
   "codemirror_mode": {
    "name": "ipython",
    "version": 3
   },
   "file_extension": ".py",
   "mimetype": "text/x-python",
   "name": "python",
   "nbconvert_exporter": "python",
   "pygments_lexer": "ipython3",
   "version": "3.9.7"
  }
 },
 "nbformat": 4,
 "nbformat_minor": 2
}
