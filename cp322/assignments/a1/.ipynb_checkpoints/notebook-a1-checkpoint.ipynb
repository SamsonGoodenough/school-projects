{
 "cells": [
  {
   "cell_type": "markdown",
   "id": "ce84fd91-be4d-4b6f-9ff3-cf68f9dea13d",
   "metadata": {},
   "source": [
    "# Assignment 1\n",
    "## By Samson Goodenough (190723380)\n",
    "---"
   ]
  },
  {
   "cell_type": "markdown",
   "id": "9ae3244a-3ab7-4e8c-a82f-c5f61ac9c1f9",
   "metadata": {},
   "source": [
    "### Section 1.1 | Know Your Data: 5 points"
   ]
  },
  {
   "cell_type": "code",
   "execution_count": 143,
   "id": "90fed1ec",
   "metadata": {},
   "outputs": [],
   "source": [
    "import pandas as pd"
   ]
  },
  {
   "cell_type": "code",
   "execution_count": 144,
   "id": "adfc54fc-8bfc-4aff-8a41-df725854a15f",
   "metadata": {},
   "outputs": [],
   "source": [
    "df = pd.read_csv(r\"loan_data.csv\")"
   ]
  },
  {
   "cell_type": "code",
   "execution_count": 145,
   "id": "5276a025-9401-49a8-9aaf-66c5d0d4880d",
   "metadata": {},
   "outputs": [
    {
     "data": {
      "text/html": [
       "<div>\n",
       "<style scoped>\n",
       "    .dataframe tbody tr th:only-of-type {\n",
       "        vertical-align: middle;\n",
       "    }\n",
       "\n",
       "    .dataframe tbody tr th {\n",
       "        vertical-align: top;\n",
       "    }\n",
       "\n",
       "    .dataframe thead th {\n",
       "        text-align: right;\n",
       "    }\n",
       "</style>\n",
       "<table border=\"1\" class=\"dataframe\">\n",
       "  <thead>\n",
       "    <tr style=\"text-align: right;\">\n",
       "      <th></th>\n",
       "      <th>credit.policy</th>\n",
       "      <th>purpose</th>\n",
       "      <th>int.rate</th>\n",
       "      <th>installment</th>\n",
       "      <th>log.annual.inc</th>\n",
       "      <th>dti</th>\n",
       "      <th>fico</th>\n",
       "      <th>days.with.cr.line</th>\n",
       "      <th>revol.bal</th>\n",
       "      <th>revol.util</th>\n",
       "      <th>inq.last.6mths</th>\n",
       "      <th>delinq.2yrs</th>\n",
       "      <th>pub.rec</th>\n",
       "      <th>not.fully.paid</th>\n",
       "    </tr>\n",
       "  </thead>\n",
       "  <tbody>\n",
       "    <tr>\n",
       "      <th>0</th>\n",
       "      <td>1</td>\n",
       "      <td>debt_consolidation</td>\n",
       "      <td>0.1189</td>\n",
       "      <td>829.10</td>\n",
       "      <td>11.350407</td>\n",
       "      <td>19.48</td>\n",
       "      <td>737</td>\n",
       "      <td>5639.958333</td>\n",
       "      <td>28854</td>\n",
       "      <td>52.1</td>\n",
       "      <td>0</td>\n",
       "      <td>0</td>\n",
       "      <td>0</td>\n",
       "      <td>0</td>\n",
       "    </tr>\n",
       "    <tr>\n",
       "      <th>1</th>\n",
       "      <td>1</td>\n",
       "      <td>credit_card</td>\n",
       "      <td>0.1071</td>\n",
       "      <td>228.22</td>\n",
       "      <td>11.082143</td>\n",
       "      <td>14.29</td>\n",
       "      <td>707</td>\n",
       "      <td>2760.000000</td>\n",
       "      <td>33623</td>\n",
       "      <td>76.7</td>\n",
       "      <td>0</td>\n",
       "      <td>0</td>\n",
       "      <td>0</td>\n",
       "      <td>0</td>\n",
       "    </tr>\n",
       "    <tr>\n",
       "      <th>2</th>\n",
       "      <td>1</td>\n",
       "      <td>debt_consolidation</td>\n",
       "      <td>0.1357</td>\n",
       "      <td>366.86</td>\n",
       "      <td>10.373491</td>\n",
       "      <td>11.63</td>\n",
       "      <td>682</td>\n",
       "      <td>4710.000000</td>\n",
       "      <td>3511</td>\n",
       "      <td>25.6</td>\n",
       "      <td>1</td>\n",
       "      <td>0</td>\n",
       "      <td>0</td>\n",
       "      <td>0</td>\n",
       "    </tr>\n",
       "    <tr>\n",
       "      <th>3</th>\n",
       "      <td>1</td>\n",
       "      <td>debt_consolidation</td>\n",
       "      <td>0.1008</td>\n",
       "      <td>162.34</td>\n",
       "      <td>11.350407</td>\n",
       "      <td>8.10</td>\n",
       "      <td>712</td>\n",
       "      <td>2699.958333</td>\n",
       "      <td>33667</td>\n",
       "      <td>73.2</td>\n",
       "      <td>1</td>\n",
       "      <td>0</td>\n",
       "      <td>0</td>\n",
       "      <td>0</td>\n",
       "    </tr>\n",
       "    <tr>\n",
       "      <th>4</th>\n",
       "      <td>1</td>\n",
       "      <td>credit_card</td>\n",
       "      <td>0.1426</td>\n",
       "      <td>102.92</td>\n",
       "      <td>11.299732</td>\n",
       "      <td>14.97</td>\n",
       "      <td>667</td>\n",
       "      <td>4066.000000</td>\n",
       "      <td>4740</td>\n",
       "      <td>39.5</td>\n",
       "      <td>0</td>\n",
       "      <td>1</td>\n",
       "      <td>0</td>\n",
       "      <td>0</td>\n",
       "    </tr>\n",
       "  </tbody>\n",
       "</table>\n",
       "</div>"
      ],
      "text/plain": [
       "   credit.policy             purpose  int.rate  installment  log.annual.inc  \\\n",
       "0              1  debt_consolidation    0.1189       829.10       11.350407   \n",
       "1              1         credit_card    0.1071       228.22       11.082143   \n",
       "2              1  debt_consolidation    0.1357       366.86       10.373491   \n",
       "3              1  debt_consolidation    0.1008       162.34       11.350407   \n",
       "4              1         credit_card    0.1426       102.92       11.299732   \n",
       "\n",
       "     dti  fico  days.with.cr.line  revol.bal  revol.util  inq.last.6mths  \\\n",
       "0  19.48   737        5639.958333      28854        52.1               0   \n",
       "1  14.29   707        2760.000000      33623        76.7               0   \n",
       "2  11.63   682        4710.000000       3511        25.6               1   \n",
       "3   8.10   712        2699.958333      33667        73.2               1   \n",
       "4  14.97   667        4066.000000       4740        39.5               0   \n",
       "\n",
       "   delinq.2yrs  pub.rec  not.fully.paid  \n",
       "0            0        0               0  \n",
       "1            0        0               0  \n",
       "2            0        0               0  \n",
       "3            0        0               0  \n",
       "4            1        0               0  "
      ]
     },
     "execution_count": 145,
     "metadata": {},
     "output_type": "execute_result"
    }
   ],
   "source": [
    "df.head()"
   ]
  },
  {
   "cell_type": "code",
   "execution_count": 146,
   "id": "2fbde76b-7082-4b7b-80e3-b4b988750891",
   "metadata": {},
   "outputs": [
    {
     "data": {
      "text/html": [
       "<div>\n",
       "<style scoped>\n",
       "    .dataframe tbody tr th:only-of-type {\n",
       "        vertical-align: middle;\n",
       "    }\n",
       "\n",
       "    .dataframe tbody tr th {\n",
       "        vertical-align: top;\n",
       "    }\n",
       "\n",
       "    .dataframe thead th {\n",
       "        text-align: right;\n",
       "    }\n",
       "</style>\n",
       "<table border=\"1\" class=\"dataframe\">\n",
       "  <thead>\n",
       "    <tr style=\"text-align: right;\">\n",
       "      <th></th>\n",
       "      <th>credit.policy</th>\n",
       "      <th>int.rate</th>\n",
       "      <th>installment</th>\n",
       "      <th>log.annual.inc</th>\n",
       "      <th>dti</th>\n",
       "      <th>fico</th>\n",
       "      <th>days.with.cr.line</th>\n",
       "      <th>revol.bal</th>\n",
       "      <th>revol.util</th>\n",
       "      <th>inq.last.6mths</th>\n",
       "      <th>delinq.2yrs</th>\n",
       "      <th>pub.rec</th>\n",
       "      <th>not.fully.paid</th>\n",
       "    </tr>\n",
       "  </thead>\n",
       "  <tbody>\n",
       "    <tr>\n",
       "      <th>count</th>\n",
       "      <td>9577.000000</td>\n",
       "      <td>9577.000000</td>\n",
       "      <td>9577.000000</td>\n",
       "      <td>9577.000000</td>\n",
       "      <td>9577.000000</td>\n",
       "      <td>9577.000000</td>\n",
       "      <td>9577.000000</td>\n",
       "      <td>9.577000e+03</td>\n",
       "      <td>9577.000000</td>\n",
       "      <td>9577.000000</td>\n",
       "      <td>9577.000000</td>\n",
       "      <td>9577.000000</td>\n",
       "      <td>9577.000000</td>\n",
       "    </tr>\n",
       "    <tr>\n",
       "      <th>mean</th>\n",
       "      <td>0.805054</td>\n",
       "      <td>0.122638</td>\n",
       "      <td>319.033619</td>\n",
       "      <td>10.932082</td>\n",
       "      <td>12.606295</td>\n",
       "      <td>710.844106</td>\n",
       "      <td>4560.748482</td>\n",
       "      <td>1.691177e+04</td>\n",
       "      <td>46.798171</td>\n",
       "      <td>1.577007</td>\n",
       "      <td>0.163726</td>\n",
       "      <td>0.062128</td>\n",
       "      <td>0.159967</td>\n",
       "    </tr>\n",
       "    <tr>\n",
       "      <th>std</th>\n",
       "      <td>0.396180</td>\n",
       "      <td>0.026848</td>\n",
       "      <td>207.010102</td>\n",
       "      <td>0.614835</td>\n",
       "      <td>6.884227</td>\n",
       "      <td>37.971904</td>\n",
       "      <td>2497.060076</td>\n",
       "      <td>3.375727e+04</td>\n",
       "      <td>29.015745</td>\n",
       "      <td>2.199896</td>\n",
       "      <td>0.546241</td>\n",
       "      <td>0.262139</td>\n",
       "      <td>0.366594</td>\n",
       "    </tr>\n",
       "    <tr>\n",
       "      <th>min</th>\n",
       "      <td>0.000000</td>\n",
       "      <td>0.060000</td>\n",
       "      <td>15.670000</td>\n",
       "      <td>7.547502</td>\n",
       "      <td>0.000000</td>\n",
       "      <td>612.000000</td>\n",
       "      <td>178.958333</td>\n",
       "      <td>0.000000e+00</td>\n",
       "      <td>0.000000</td>\n",
       "      <td>0.000000</td>\n",
       "      <td>0.000000</td>\n",
       "      <td>0.000000</td>\n",
       "      <td>0.000000</td>\n",
       "    </tr>\n",
       "    <tr>\n",
       "      <th>25%</th>\n",
       "      <td>1.000000</td>\n",
       "      <td>0.103900</td>\n",
       "      <td>163.770000</td>\n",
       "      <td>10.558414</td>\n",
       "      <td>7.210000</td>\n",
       "      <td>682.000000</td>\n",
       "      <td>2820.000000</td>\n",
       "      <td>3.187000e+03</td>\n",
       "      <td>22.600000</td>\n",
       "      <td>0.000000</td>\n",
       "      <td>0.000000</td>\n",
       "      <td>0.000000</td>\n",
       "      <td>0.000000</td>\n",
       "    </tr>\n",
       "    <tr>\n",
       "      <th>50%</th>\n",
       "      <td>1.000000</td>\n",
       "      <td>0.122100</td>\n",
       "      <td>268.950000</td>\n",
       "      <td>10.928238</td>\n",
       "      <td>12.660000</td>\n",
       "      <td>707.000000</td>\n",
       "      <td>4139.958333</td>\n",
       "      <td>8.596000e+03</td>\n",
       "      <td>46.300000</td>\n",
       "      <td>1.000000</td>\n",
       "      <td>0.000000</td>\n",
       "      <td>0.000000</td>\n",
       "      <td>0.000000</td>\n",
       "    </tr>\n",
       "    <tr>\n",
       "      <th>75%</th>\n",
       "      <td>1.000000</td>\n",
       "      <td>0.140700</td>\n",
       "      <td>432.350000</td>\n",
       "      <td>11.291780</td>\n",
       "      <td>17.950000</td>\n",
       "      <td>737.000000</td>\n",
       "      <td>5730.000000</td>\n",
       "      <td>1.824200e+04</td>\n",
       "      <td>70.900000</td>\n",
       "      <td>2.000000</td>\n",
       "      <td>0.000000</td>\n",
       "      <td>0.000000</td>\n",
       "      <td>0.000000</td>\n",
       "    </tr>\n",
       "    <tr>\n",
       "      <th>max</th>\n",
       "      <td>1.000000</td>\n",
       "      <td>0.216400</td>\n",
       "      <td>940.140000</td>\n",
       "      <td>14.528354</td>\n",
       "      <td>29.960000</td>\n",
       "      <td>827.000000</td>\n",
       "      <td>17639.958330</td>\n",
       "      <td>1.207359e+06</td>\n",
       "      <td>119.000000</td>\n",
       "      <td>33.000000</td>\n",
       "      <td>13.000000</td>\n",
       "      <td>5.000000</td>\n",
       "      <td>1.000000</td>\n",
       "    </tr>\n",
       "  </tbody>\n",
       "</table>\n",
       "</div>"
      ],
      "text/plain": [
       "       credit.policy     int.rate  installment  log.annual.inc          dti  \\\n",
       "count    9577.000000  9577.000000  9577.000000     9577.000000  9577.000000   \n",
       "mean        0.805054     0.122638   319.033619       10.932082    12.606295   \n",
       "std         0.396180     0.026848   207.010102        0.614835     6.884227   \n",
       "min         0.000000     0.060000    15.670000        7.547502     0.000000   \n",
       "25%         1.000000     0.103900   163.770000       10.558414     7.210000   \n",
       "50%         1.000000     0.122100   268.950000       10.928238    12.660000   \n",
       "75%         1.000000     0.140700   432.350000       11.291780    17.950000   \n",
       "max         1.000000     0.216400   940.140000       14.528354    29.960000   \n",
       "\n",
       "              fico  days.with.cr.line     revol.bal   revol.util  \\\n",
       "count  9577.000000        9577.000000  9.577000e+03  9577.000000   \n",
       "mean    710.844106        4560.748482  1.691177e+04    46.798171   \n",
       "std      37.971904        2497.060076  3.375727e+04    29.015745   \n",
       "min     612.000000         178.958333  0.000000e+00     0.000000   \n",
       "25%     682.000000        2820.000000  3.187000e+03    22.600000   \n",
       "50%     707.000000        4139.958333  8.596000e+03    46.300000   \n",
       "75%     737.000000        5730.000000  1.824200e+04    70.900000   \n",
       "max     827.000000       17639.958330  1.207359e+06   119.000000   \n",
       "\n",
       "       inq.last.6mths  delinq.2yrs      pub.rec  not.fully.paid  \n",
       "count     9577.000000  9577.000000  9577.000000     9577.000000  \n",
       "mean         1.577007     0.163726     0.062128        0.159967  \n",
       "std          2.199896     0.546241     0.262139        0.366594  \n",
       "min          0.000000     0.000000     0.000000        0.000000  \n",
       "25%          0.000000     0.000000     0.000000        0.000000  \n",
       "50%          1.000000     0.000000     0.000000        0.000000  \n",
       "75%          2.000000     0.000000     0.000000        0.000000  \n",
       "max         33.000000    13.000000     5.000000        1.000000  "
      ]
     },
     "execution_count": 146,
     "metadata": {},
     "output_type": "execute_result"
    }
   ],
   "source": [
    "df.describe()"
   ]
  },
  {
   "cell_type": "code",
   "execution_count": 147,
   "id": "1f317dd0-a545-42b6-80a6-351110803fe6",
   "metadata": {},
   "outputs": [
    {
     "data": {
      "text/html": [
       "<div>\n",
       "<style scoped>\n",
       "    .dataframe tbody tr th:only-of-type {\n",
       "        vertical-align: middle;\n",
       "    }\n",
       "\n",
       "    .dataframe tbody tr th {\n",
       "        vertical-align: top;\n",
       "    }\n",
       "\n",
       "    .dataframe thead th {\n",
       "        text-align: right;\n",
       "    }\n",
       "</style>\n",
       "<table border=\"1\" class=\"dataframe\">\n",
       "  <thead>\n",
       "    <tr style=\"text-align: right;\">\n",
       "      <th></th>\n",
       "      <th>credit.policy</th>\n",
       "    </tr>\n",
       "  </thead>\n",
       "  <tbody>\n",
       "    <tr>\n",
       "      <th>count</th>\n",
       "      <td>9577.000000</td>\n",
       "    </tr>\n",
       "    <tr>\n",
       "      <th>mean</th>\n",
       "      <td>0.805054</td>\n",
       "    </tr>\n",
       "    <tr>\n",
       "      <th>std</th>\n",
       "      <td>0.396180</td>\n",
       "    </tr>\n",
       "    <tr>\n",
       "      <th>min</th>\n",
       "      <td>0.000000</td>\n",
       "    </tr>\n",
       "    <tr>\n",
       "      <th>25%</th>\n",
       "      <td>1.000000</td>\n",
       "    </tr>\n",
       "    <tr>\n",
       "      <th>50%</th>\n",
       "      <td>1.000000</td>\n",
       "    </tr>\n",
       "    <tr>\n",
       "      <th>75%</th>\n",
       "      <td>1.000000</td>\n",
       "    </tr>\n",
       "    <tr>\n",
       "      <th>max</th>\n",
       "      <td>1.000000</td>\n",
       "    </tr>\n",
       "  </tbody>\n",
       "</table>\n",
       "</div>"
      ],
      "text/plain": [
       "       credit.policy\n",
       "count    9577.000000\n",
       "mean        0.805054\n",
       "std         0.396180\n",
       "min         0.000000\n",
       "25%         1.000000\n",
       "50%         1.000000\n",
       "75%         1.000000\n",
       "max         1.000000"
      ]
     },
     "execution_count": 147,
     "metadata": {},
     "output_type": "execute_result"
    }
   ],
   "source": [
    "df[[\"credit.policy\"]].describe()"
   ]
  },
  {
   "cell_type": "code",
   "execution_count": 148,
   "id": "394aaa25-df7c-4f0a-9a2b-a6e5ccb50237",
   "metadata": {},
   "outputs": [
    {
     "data": {
      "text/plain": [
       "<AxesSubplot:ylabel='Frequency'>"
      ]
     },
     "execution_count": 148,
     "metadata": {},
     "output_type": "execute_result"
    },
    {
     "data": {
      "image/png": "[encoded data removed]",
      "text/plain": [
       "<Figure size 432x288 with 1 Axes>"
      ]
     },
     "metadata": {
      "needs_background": "light"
     },
     "output_type": "display_data"
    }
   ],
   "source": [
    "df[[\"credit.policy\"]].plot.hist(bins = 35)"
   ]
  },
  {
   "cell_type": "code",
   "execution_count": 149,
   "id": "5e708b65-ed4a-4cc6-ad22-b1822a9b8e04",
   "metadata": {},
   "outputs": [
    {
     "data": {
      "text/plain": [
       "<AxesSubplot:title={'center':'fico'}, xlabel='credit.policy'>"
      ]
     },
     "execution_count": 149,
     "metadata": {},
     "output_type": "execute_result"
    },
    {
     "data": {
      "image/png": "[encoded data removed]",
      "text/plain": [
       "<Figure size 432x288 with 1 Axes>"
      ]
     },
     "metadata": {
      "needs_background": "light"
     },
     "output_type": "display_data"
    }
   ],
   "source": [
    "df.boxplot(\"fico\", \"credit.policy\")"
   ]
  },
  {
   "cell_type": "markdown",
   "id": "7ede2d29-105d-488f-8f68-9af1ab6ea4b2",
   "metadata": {},
   "source": [
    "### Section 1.2 | Data Preprocessing and Model Construction: 6 points\n",
    "#### Section 1.2.1 | Data Preprocessing and Splitting"
   ]
  },
  {
   "cell_type": "code",
   "execution_count": 150,
   "id": "e28ce327-071e-445f-893c-3e2cba1f87cd",
   "metadata": {},
   "outputs": [],
   "source": [
    "from sklearn import tree\n",
    "from sklearn.model_selection import train_test_split, cross_val_score\n",
    "import numpy as np"
   ]
  },
  {
   "cell_type": "code",
   "execution_count": 151,
   "id": "711bf874-73d8-4f3e-afe0-ec4f932bb4d9",
   "metadata": {},
   "outputs": [],
   "source": [
    "# split the 'purpose' column into binary features\n",
    "dummies = pd.get_dummies(df[['purpose']])\n",
    "preprocessed = pd.concat([df.drop('purpose', axis=1), dummies], axis=1)\n",
    "\n",
    "# select all columns but the Target (not.fully.paid)\n",
    "features = preprocessed.drop('not.fully.paid', axis=1).columns\n",
    "\n",
    "# select a 70:30 ratio of training:testing data\n",
    "x_train, x_test, y_train, y_test = train_test_split(preprocessed[features], preprocessed['not.fully.paid'], test_size=0.3)"
   ]
  },
  {
   "cell_type": "markdown",
   "id": "21b1960b-2b56-469b-8276-24afc5ba131d",
   "metadata": {},
   "source": [
    "### Section 1.2.2 | Training a Decision Tree"
   ]
  },
  {
   "cell_type": "code",
   "execution_count": 152,
   "id": "9a9c16f3-ee01-467a-a17d-ef7b8fcac54d",
   "metadata": {},
   "outputs": [
    {
     "name": "stdout",
     "output_type": "stream",
     "text": [
      "Info Gain:\t 0.7387777209333365\n",
      "Gini:\t\t 0.7332537758302378\n",
      "Information Gain has a greater cross validation score by 0.005523945103098726\n"
     ]
    }
   ],
   "source": [
    "clfTree_infoGain = tree.DecisionTreeClassifier(criterion='entropy')\n",
    "clfTree_infoGain = clfTree_infoGain.fit(x_train, y_train)\n",
    "\n",
    "clfTree_gini = tree.DecisionTreeClassifier(criterion='gini')\n",
    "clfTree_gini = clfTree_gini.fit(x_train, y_train)\n",
    "\n",
    "cvsTree_infoGain = np.average(cross_val_score(clfTree_infoGain, x_train, y_train, cv=10))\n",
    "cvsTree_gini = np.average(cross_val_score(clfTree_gini, x_train, y_train, cv=10))\n",
    "\n",
    "print('Info Gain:\\t', cvsTree_infoGain)\n",
    "print('Gini:\\t\\t', cvsTree_gini)\n",
    "print(\"Gini has a greater cross validation score\" if (cvsTree_gini > cvsTree_infoGain) else \"Information Gain has a greater cross validation score\", \"by\", np.abs(cvsTree_gini-cvsTree_infoGain))"
   ]
  },
  {
   "cell_type": "markdown",
   "id": "2b02d2c2-d75b-46a1-b974-d2a98d21550e",
   "metadata": {},
   "source": [
    "### Section 1.2.3 | Training a Random Forest"
   ]
  },
  {
   "cell_type": "code",
   "execution_count": 153,
   "id": "11224ff6-0824-4d1a-83b9-99c206d6d0f4",
   "metadata": {},
   "outputs": [],
   "source": [
    "from sklearn.ensemble import RandomForestClassifier"
   ]
  },
  {
   "cell_type": "code",
   "execution_count": 154,
   "id": "de16b26c-705e-4283-86da-1ca682ec067d",
   "metadata": {},
   "outputs": [
    {
     "name": "stdout",
     "output_type": "stream",
     "text": [
      "Info Gain:\t 0.8342542874302111\n",
      "Gini:\t\t 0.8311215161153992\n",
      "Information Gain has a greater cross validation score by 0.003132771314811933\n"
     ]
    }
   ],
   "source": [
    "clfForest_infoGain = RandomForestClassifier(n_estimators=15, max_samples=1000, bootstrap=True, criterion='entropy')\n",
    "clfForest_infoGain = clfForest_infoGain.fit(x_train, y_train)\n",
    "\n",
    "clfForest_gini = RandomForestClassifier(n_estimators=15, max_samples=1000, bootstrap=True, criterion='gini')\n",
    "clfForest_gini = clfForest_gini.fit(x_train, y_train)\n",
    "\n",
    "cvsForest_infoGain = np.average(cross_val_score(clfForest_infoGain, x_train, y_train, cv=10))\n",
    "cvsForest_gini = np.average(cross_val_score(clfForest_gini, x_train, y_train, cv=10))\n",
    "\n",
    "print('Info Gain:\\t', cvsForest_infoGain)\n",
    "print('Gini:\\t\\t', cvsForest_gini)\n",
    "print(\"Gini has a greater cross validation score\" if (cvsForest_gini > cvsForest_infoGain) else \"Information Gain has a greater cross validation score\", \"by\", np.abs(cvsForest_gini-cvsForest_infoGain))"
   ]
  },
  {
   "cell_type": "markdown",
   "id": "f0fa0c6e-d037-4318-ac5f-9a602c524123",
   "metadata": {},
   "source": [
    "## Section 1.3 | Performance Evaluation and Analysis: 4 points"
   ]
  },
  {
   "cell_type": "code",
   "execution_count": 155,
   "id": "64a487fd-ed4a-4569-a7da-52f67875923f",
   "metadata": {},
   "outputs": [],
   "source": [
    "from sklearn.metrics import precision_recall_fscore_support"
   ]
  },
  {
   "cell_type": "code",
   "execution_count": 156,
   "id": "3f03bbbf-7adf-405b-b2ce-4060b478de98",
   "metadata": {},
   "outputs": [],
   "source": [
    "pred_tree_infoGain = clfTree_infoGain.predict(x_test)\n",
    "pred_tree_gini = clfTree_gini.predict(x_test)\n",
    "\n",
    "pred_forest_infoGain = clfForest_infoGain.predict(x_test)\n",
    "pred_forest_gini = clfForest_gini.predict(x_test)"
   ]
  },
  {
   "cell_type": "code",
   "execution_count": 157,
   "id": "9b0a8fe6-9fbf-423d-9908-280cc1a1fec9",
   "metadata": {},
   "outputs": [
    {
     "name": "stdout",
     "output_type": "stream",
     "text": [
      "                            precision      recall         fscore        \n",
      "  Tree | Information Gain | \u001b[2;1;43m0.851334180432\u001b[0m 0.829550144449 0.840301003344\n",
      "  Tree | Gini Coefficient | 0.851218469431 0.821708625671 0.836203275934\n",
      "Forest | Information Gain | 0.846751412429 \u001b[2;1;43m0.989682212134\u001b[0m \u001b[2;1;43m0.912654614653\u001b[0m\n",
      "Forest | Gini Coefficient | 0.847547974414 0.984316962443 0.910826809242\n"
     ]
    }
   ],
   "source": [
    "# find the greatest and highlight it\n",
    "print(\"{:28}{:14} {:14} {:14}\".format('', 'precision', 'recall', 'fscore'))\n",
    "\n",
    "prfs = []\n",
    "prfs.append(np.asarray(precision_recall_fscore_support(y_test, pred_tree_infoGain, average='binary', pos_label=0)))\n",
    "prfs.append(np.asarray(precision_recall_fscore_support(y_test, pred_tree_gini, average='binary', pos_label=0)))\n",
    "prfs.append(np.asarray(precision_recall_fscore_support(y_test, pred_forest_infoGain, average='binary', pos_label=0)))\n",
    "prfs.append(np.asarray(precision_recall_fscore_support(y_test, pred_forest_gini, average='binary', pos_label=0)))\n",
    "\n",
    "for i in range(len(prfs)):\n",
    "    for j in range(len(prfs[i])-1):\n",
    "        prfs[i][j] = round(prfs[i][j], 12)\n",
    "        \n",
    "for i in range(len(prfs[0])-1):\n",
    "    max = [j,i]\n",
    "    for j in range(len(prfs)):\n",
    "        if prfs[max[0]][max[1]] < prfs[j][i]:\n",
    "            max = [j, i]\n",
    "    prfs[max[0]][max[1]] = '\\033[2;1;43m'+str(prfs[max[0]][max[1]])+'\\x1b[0m'\n",
    "\n",
    "# print results\n",
    "print(\"{:>6} | {:16} | {:0<14} {:0<14} {:0<14}\".format('Tree', 'Information Gain', prfs[0][0], prfs[0][1], prfs[0][2]))\n",
    "print(\"{:>6} | {:16} | {:0<14} {:0<14} {:0<14}\".format('Tree', 'Gini Coefficient', prfs[1][0], prfs[1][1], prfs[1][2]))\n",
    "print(\"{:>6} | {:16} | {:0<14} {:0<14} {:0<14}\".format('Forest', 'Information Gain', prfs[2][0], prfs[2][1], prfs[2][2]))\n",
    "print(\"{:>6} | {:16} | {:0<14} {:0<14} {:0<14}\".format('Forest', 'Gini Coefficient', prfs[3][0], prfs[3][1], prfs[3][2]))"
   ]
  },
  {
   "cell_type": "markdown",
   "id": "01259b48-f64a-402c-865b-4b8f1ac77843",
   "metadata": {},
   "source": [
    "---\n",
    "### Conclusion\n",
    "Now that we have the evaluation metrics, we can decide which of the classifiers will be most beneficial for our circumstances.\n",
    "\n",
    "Remember that we are deciding whom gets a loan, and who doesn't. It is made clear by the fscores that the Forests preformed much better then the Decision Trees. Both Information Gain and Gini Coefficient based classifiers do exceedingly well in their average recall, so much so that I would argue that the precision is made far more important since the risk of false-positives would be much higher if we chose to use Decision Trees.\n",
    "\n",
    "The f-score is the mean of the precision and recall, or in otherwords which algorithm will be the most reliable overall, across both precision and recall.\n",
    "In most cases selecting that with the highest f-score would give a reliable classifier, but in our case I would argue that the Random Forest classifier with the greatest precision is most important."
   ]
  }
 ],
 "metadata": {
  "kernelspec": {
   "display_name": "Python 3 (ipykernel)",
   "language": "python",
   "name": "python3"
  },
  "language_info": {
   "codemirror_mode": {
    "name": "ipython",
    "version": 3
   },
   "file_extension": ".py",
   "mimetype": "text/x-python",
   "name": "python",
   "nbconvert_exporter": "python",
   "pygments_lexer": "ipython3",
   "version": "3.9.7"
  }
 },
 "nbformat": 4,
 "nbformat_minor": 5
}
